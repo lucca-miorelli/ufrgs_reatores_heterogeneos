{
 "cells": [
  {
   "cell_type": "code",
   "execution_count": 1,
   "id": "78b251b3",
   "metadata": {},
   "outputs": [],
   "source": [
    "# tentar resolver FA0 conforme enunciado\n",
    "# estequiometria saída do primeira reator está certa?\n",
    "# revisar parâmetros de entrada do segundo reator\n",
    "# revisar reatores em série, como resolver\n",
    "# O ERRO PROVAVELMENTE É A ESTEQUIOMETRIA QUE FIZ PARA LÍQUIDOS. CORRIGIR PARA GASES\n",
    "\n",
    "\n",
    "# marla fez com limite de temperatura diferente e não mudou os parametros para o segundo reator; mudou a P inicial\n",
    "#enunciado está estranho para alimentação"
   ]
  },
  {
   "cell_type": "markdown",
   "id": "cf3f0561",
   "metadata": {},
   "source": [
    "# 7. PROJETO DE REATORES DE LEITO FIXO"
   ]
  },
  {
   "cell_type": "code",
   "execution_count": 6,
   "id": "c7ccb76a",
   "metadata": {},
   "outputs": [],
   "source": [
    "# importing packages\n",
    "\n",
    "import numpy as np\n",
    "from scipy.integrate import odeint\n",
    "import matplotlib.pyplot as plt\n",
    "import sympy as sb"
   ]
  },
  {
   "cell_type": "markdown",
   "id": "fd8f5a1a",
   "metadata": {},
   "source": [
    "A produção de ácido sulfúrico em escala industrial depende da oxidação do dióxido de enxofre:\n",
    "\n",
    "$$\n",
    "SO_2 + \\frac{1}{2} O_2 <==> SO_3\n",
    "$$\n",
    "\n",
    "Esta reação pode ser catalisada por pentóxido de vanádio (VnO5) suportado em sílica gel, caso em que\n",
    "a taxa da reação será expressa por:\n",
    "\n",
    "$$\n",
    "-r'_{SO_2} =\\frac{(k_1 p_{SO_2}p_{O_2} - k_2p_{SO_3}p^{1/2}_{O_2})}{p^{1/2}_{SO_2}}\n",
    "$$\n",
    "\n",
    "A reação é altamente exotérmica e reversível, sendo realizada em dois reatores adiabáticos de leito\n",
    "fixo, em série, intercalados por um trocador de calor, onde é feito o resfriamento da corrente que\n",
    "alimenta o segundo estágio. Negligenciando todos os efeitos difusivos, determine a quantidade de\n",
    "catalisador necessária aos dois reatores para que se possa produzir 50 toneladas/dia de ácido\n",
    "sulfúrico (conversão global de SO2 : 99%), sabendo que a corrente efluente do primeiro estágio deve\n",
    "estar a temperatura inferior a 560°C para evitar danos ao catalisador. "
   ]
  },
  {
   "cell_type": "markdown",
   "id": "251a635f",
   "metadata": {},
   "source": [
    "Dados\n",
    "- pressão total na entrada de cada leito:1,3 atm\n",
    "- temperatura de entrada no primeiro estágio: 370°C\n",
    "- temperatura do efluente do primeiro estágio: 560°C\n",
    "- temperatura de entrada no segundo estágio: 370°C\n",
    "- calor de reação: -24,60 + 1,99 x 10-3 T (kcal/gmol)\n",
    "- massa específica do catalisador: 600 kg/m3\n",
    "- diâmetro do reator: 6ft\n",
    "- assuma catalisador esférico com diâmetro de ¼ in\n",
    "- viscosidade do gás: 0,09 lb/(h ft)\n",
    "- porosidade do leito: 0,4\n",
    "\n",
    "Dados adicionais\n",
    "- $ ln k_1 = 12.07 - (31000 / RT) $\n",
    "- $ ln k_12= 22.75 - (53600 / RT) $\n",
    "- $T$ em $K$, $R$ em $cal / mol . K$\n",
    "- $k_1$ em $mol / (s g_{cat} atm^{3/2}$\n",
    "- $k_2$ em $ mol / (s g_{cat} atm) $\n",
    "\n",
    "|     | %molar | Cp (cal/gmol K)     |\n",
    "|-----|--------|---------------------|\n",
    "| N2  | 79     | 6.42 + 1.34e-3 * T  |\n",
    "| O2  | 13     | 6.74 + 1.64e-3 * T  |\n",
    "| SO2 | 8      | 9.52 + 3.64e-3 * T  |\n",
    "| SO3 | 0      | 12.13 + 8.12e-3 * T |"
   ]
  },
  {
   "cell_type": "code",
   "execution_count": 1,
   "id": "ca2e8407",
   "metadata": {},
   "outputs": [],
   "source": [
    "# initial conditions and other constants\n",
    "\n",
    "P0 = 1.3   #atm\n",
    "T0 = 643.   #K\n",
    "x0 = 0.\n",
    "pA0 = P0 * 0.08  #atm\n",
    "#FA0 = 5.96e-3   #kmol/s\n",
    "FA0 = ( 50 / 24 / 3600 * 1000 / 98) / 0.99  # FA0 kmol/s\n",
    "Mmed = 0.08 * 64 + 0.13 * 32 + 0.79 * 28   #\n",
    "rog0 = P0 * Mmed / (0.082 * T0)   #kg/m3\n",
    "\n",
    "EPA = -0.04\n",
    "tetaB = 1.63\n",
    "tetaI = 9.88\n",
    "\n",
    "Eb = 0.4\n",
    "Ac = 2.6    # m2\n",
    "rop = 600   # kg/m3\n",
    "\n",
    "gc = 32.3    # lbm / ft (lbf s2)\n",
    "visc = 2.5e-5    # lbm / (s ft)\n",
    "dp=0.0208    # ft\n",
    "G = 0.1855    # lbm / (ft2 s)"
   ]
  },
  {
   "cell_type": "code",
   "execution_count": 4,
   "id": "f9e9725f",
   "metadata": {},
   "outputs": [],
   "source": [
    "# defining ODEs to run odeint\n",
    "\n",
    "def odes(vec, L):\n",
    "    \"\"\" Solves coupled ODEs.\n",
    "    \n",
    "    Args:\n",
    "        vec (list of floats): List the initial conditions for variables T, x and P in that order.\n",
    "        L (numpy array): array to which solve.\n",
    "        \n",
    "    Returns:\n",
    "        list of arrays: returns solved T, x and P for L.\n",
    "    \n",
    "    \"\"\"\n",
    "    \n",
    "    # assign each ODE to a vector element\n",
    "    T = vec[0]\n",
    "    x = vec[1]\n",
    "    P = vec[2]   \n",
    "    \n",
    "    # coefficients\n",
    "    k1 = np.exp(12.07) * np.exp(-31000 / (1.987 * T))\n",
    "    k2 = np.exp(22.75) * np.exp(-53600 / (1.987 * T))\n",
    "    \n",
    "    R1 = k1 * (pA0 ** 2) * (1-x) * (tetaB - 0.5 * x) / (1 + EPA * x)**2 * (P**2) / (P0**2)\n",
    "    R2 = k2 * (pA0** 1.5) * x * (tetaB - 0.5 * x)**0.5 / (1 + EPA * x)**1.5 * (P**1.5) / (P0**1.5)\n",
    "    R3 = pA0**0.5 * (1-x)**0.5 / (1 + EPA * x)**0.5 * (P**0.5) / (P0**0.5)\n",
    "    rA = -(R1-R2) / R3    #kmol/(kg s)\n",
    "    \n",
    "    somatetacp = 83.87 + 19.537e-3 * T    # kcal / (kmol K)\n",
    "    deltacp = - 0.76 + 3.66e-3 * T   \n",
    "    deltaHr = (-24.6 + 1.99e-3 * T) * 1000    #kcal/kmol\n",
    "    \n",
    "    betaing = G / (dp * gc) * ((1 - Eb) / Eb ** 3) * (150 * (1 - Eb) * visc / dp + 1.75 * G)    #lbf/ft6\n",
    "    beta = betaing * 2.82e3 / 1.12    #N/(kg*m6)\n",
    "    beta0 = (beta/rog0) / 1e5    #atm/m\n",
    "    \n",
    "    # define each ODE\n",
    "    dTdL = -deltaHr * (-rA) / (FA0 * (somatetacp + x * deltacp))*((1 - Eb) * rop * Ac)\n",
    "    dxdL = -rA/FA0 * ((1 - Eb) * rop * Ac)\n",
    "    dPdL = -beta0 * (P0/P) * (T/T0) * (1 + EPA * x)\n",
    "    \n",
    "    return [dTdL, dxdL, dPdL]"
   ]
  },
  {
   "cell_type": "code",
   "execution_count": 7,
   "id": "4788bca6",
   "metadata": {},
   "outputs": [],
   "source": [
    "# initial conditions\n",
    "vec0 = [T0, x0, P0]    # T0 (K), x0, P0 (atm)\n",
    "L0 = 0.\n",
    "Lf = 8.    # initial guess\n",
    "L = np.linspace(L0, Lf, 100)\n",
    "\n",
    "# solving coupled ODEs\n",
    "vec_ode = odeint(odes, vec0, L)\n",
    "\n",
    "T_ode = vec_ode[:, 0]    # assigning solved temperature in L\n",
    "x_ode = vec_ode[:, 1]    # assigning solved conversion in L\n",
    "P_ode = vec_ode[:, 2]    # assigning solved pressure in L"
   ]
  },
  {
   "cell_type": "code",
   "execution_count": 8,
   "id": "6070a417",
   "metadata": {},
   "outputs": [
    {
     "data": {
      "text/plain": [
       "Text(0.5, 0.98, 'First Reactor')"
      ]
     },
     "execution_count": 8,
     "metadata": {},
     "output_type": "execute_result"
    },
    {
     "data": {
      "image/png": "[encoded data removed]",
      "text/plain": [
       "<Figure size 1296x432 with 3 Axes>"
      ]
     },
     "metadata": {
      "needs_background": "light"
     },
     "output_type": "display_data"
    }
   ],
   "source": [
    "# plot the results\n",
    "fig, ax = plt.subplots(nrows=1, ncols=3, figsize=(18,6))    # creating subplot\n",
    "\n",
    "ax[0].plot(L, T_ode)    # plotting T over L\n",
    "ax[0].set_xlabel(\"L (m)\", fontsize=12)\n",
    "ax[0].set_ylabel(\"Temperature (K)\", fontsize=12)\n",
    "\n",
    "ax[1].plot(L, x_ode)    # plotting x over L\n",
    "ax[1].set_xlabel(\"L (m)\", fontsize=12)\n",
    "ax[1].set_ylabel(\"Conversion (%)\", fontsize=12)\n",
    "\n",
    "ax[2].plot(L, P_ode)    # plotting P over L\n",
    "ax[2].set_xlabel(\"L (m)\", fontsize=12)\n",
    "ax[2].set_ylabel(\"Pressure (atm)\", fontsize=12)\n",
    "\n",
    "plt.suptitle('First Reactor', fontsize=20)"
   ]
  },
  {
   "cell_type": "code",
   "execution_count": 9,
   "id": "6d1d4d78",
   "metadata": {},
   "outputs": [
    {
     "name": "stdout",
     "output_type": "stream",
     "text": [
      "----------------------------------------\n",
      "Dados para Temperatura Máxima: \n",
      "\n",
      "========================================\n",
      "Tmax = 841.55 K\n",
      "L(Tmax) = 3.64 m\n",
      "x(Tmax) = 85.23 %\n",
      "P(Tmax) = 1.15 atm\n",
      "----------------------------------------\n",
      "P0 - P(Tmax) = 0.15 atm\n",
      "========================================\n",
      "\n",
      "\n",
      "\n",
      "Dados para Temperatura final (inferior a 833 K): \n",
      "\n",
      "========================================\n",
      "Tf = 818.38 K\n",
      "L(Tf) = 3.39 m\n",
      "x(Tf) = 74.94 %\n",
      "P(Tf) = 1.16 atm\n",
      "----------------------------------------\n",
      "P0 - P(Tf) = 0.14 atm\n",
      "========================================\n"
     ]
    }
   ],
   "source": [
    "# printing some results\n",
    "\n",
    "Tmax_index = np.where(T_ode == max(T_ode))    # assigns index of maximum temperature in variable Tmax_index\n",
    "\n",
    "print(\"-\" * 40)\n",
    "print(\"Dados para Temperatura Máxima: \\n\")\n",
    "print(\"=\" * 40)\n",
    "print(\"Tmax = {:.2f} K\".format(float(T_ode[Tmax_index])))\n",
    "print(\"L(Tmax) = {:.2f} m\".format(float(L[Tmax_index])))\n",
    "print(\"x(Tmax) = {:.2f} %\".format(float(x_ode[Tmax_index] * 100)))\n",
    "print(\"P(Tmax) = {:.2f} atm\".format(float(P_ode[Tmax_index])))\n",
    "print(\"-\" * 40)\n",
    "print(\"P0 - P(Tmax) = {:.2f} atm\".format(float(P_ode[0] - P_ode[Tmax_index])))\n",
    "print(\"=\" * 40)\n",
    "\n",
    "print(\"\\n\" * 2)\n",
    "\n",
    "# limiting temperatura to 833 K (the result before it)\n",
    "Tf = np.where(T_ode == T_ode[T_ode < 833][-1])\n",
    "\n",
    "# printing results\n",
    "\n",
    "print(\"Dados para Temperatura final (inferior a 833 K): \\n\")\n",
    "print(\"=\" * 40)\n",
    "print(\"Tf = {:.2f} K\".format(float(T_ode[Tf])))\n",
    "print(\"L(Tf) = {:.2f} m\".format(float(L[Tf])))\n",
    "print(\"x(Tf) = {:.2f} %\".format(float(x_ode[Tf] * 100)))\n",
    "print(\"P(Tf) = {:.2f} atm\".format(float(P_ode[Tf])))\n",
    "print(\"-\" * 40)\n",
    "print(\"P0 - P(Tf) = {:.2f} atm\".format(float(P_ode[0] - P_ode[Tf])))\n",
    "print(\"=\" * 40)"
   ]
  },
  {
   "cell_type": "code",
   "execution_count": 10,
   "id": "73b7dedc",
   "metadata": {},
   "outputs": [
    {
     "name": "stdout",
     "output_type": "stream",
     "text": [
      "First Reactor Effluents:\n",
      "\n",
      "Second reactor's feeding:\n",
      "FA1 = 0.001083 kmol/s\n",
      "FB1 = 0.005424 kmol/s\n",
      "FI1 = 0.042693 kmol/s\n",
      "FP1 = 0.003238 kmol/s\n",
      "------------------------------\n",
      "FT1 = 0.052439 kmol/s\n",
      "==============================\n",
      "\n",
      "\n",
      "yA1 = 0.02\n",
      "yB1 = 0.10\n",
      "yP1 = 0.06\n",
      "yI1 = 0.81\n",
      "\n",
      "\n",
      "tetaB1 = 5.01\n",
      "tetaP1 = 2.99\n",
      "tetaI1 = 39.42\n"
     ]
    }
   ],
   "source": [
    "FA1 = FA0 * (1 - x_ode[Tf]) / (1 + EPA * x_ode[Tf]) * (P_ode[Tf] / P0) * (T0 / T_ode[Tf])\n",
    "FB1 = (FA0 * tetaB - (1/2) * FA0 * x_ode[Tf]) / (1 + EPA * x_ode[Tf]) * (P_ode[Tf] / P0) * (T0 / T_ode[Tf])\n",
    "FI1 = (FA0 * tetaI) / (1 + EPA * x_ode[Tf]) * (P_ode[Tf] / P0) * (T0 / T_ode[Tf])\n",
    "FP1 = (0. + FA0 * x_ode[Tf]) / (1 + EPA * x_ode[Tf]) * (P_ode[Tf] / P0) * (T0 / T_ode[Tf])\n",
    "FT1 = FA1 + FB1 + FP1 + FI1\n",
    "\n",
    "print(\"First Reactor Effluents:\\n\")\n",
    "print(\"Second reactor's feeding:\")\n",
    "\n",
    "print(\"FA1 = {:.6f} kmol/s\".format(float(FA1)))\n",
    "print(\"FB1 = {:.6f} kmol/s\".format(float(FB1)))\n",
    "print(\"FI1 = {:.6f} kmol/s\".format(float(FI1)))\n",
    "print(\"FP1 = {:.6f} kmol/s\".format(float(FP1)))\n",
    "print(\"-\" * 30)\n",
    "print(\"FT1 = {:.6f} kmol/s\".format(float(FT1)))\n",
    "\n",
    "print(\"=\" * 30)\n",
    "print(\"\\n\")\n",
    "\n",
    "yA1 = FA1 / FT1\n",
    "yB1 = FB1 / FT1\n",
    "yP1 = FP1 / FT1\n",
    "yI1 = FI1 / FT1\n",
    "\n",
    "print(\"yA1 = {:.2f}\".format(float(yA1)))\n",
    "print(\"yB1 = {:.2f}\".format(float(yB1)))\n",
    "print(\"yP1 = {:.2f}\".format(float(yP1)))\n",
    "print(\"yI1 = {:.2f}\".format(float(yI1)))\n",
    "\n",
    "tetaB1 = yB1 / yA1\n",
    "tetaI1 = yI1 / yA1\n",
    "tetaP1 = yP1 / yA1\n",
    "\n",
    "print(\"\\n\")\n",
    "\n",
    "print(\"tetaB1 = {:.2f}\".format(float(tetaB1)))\n",
    "print(\"tetaP1 = {:.2f}\".format(float(tetaP1)))\n",
    "print(\"tetaI1 = {:.2f}\".format(float(tetaI1)))"
   ]
  },
  {
   "cell_type": "markdown",
   "id": "fcd28d6f",
   "metadata": {},
   "source": [
    "## Second Reactor"
   ]
  },
  {
   "cell_type": "markdown",
   "id": "e8a18478",
   "metadata": {},
   "source": [
    "Entrada do primeiro reator:\n",
    "\n",
    "$ F_{A0} = 5.965 . 10^{-3} kmol/s $\n",
    "\n",
    "$ F_{B0} = 9.715 . 10^{-3} kmol/s $ ; \n",
    "$ \\theta_{B} = 1.63 $\n",
    "\n",
    "$ F_{I0} =  58.885 . 10^{-3} kmol/s $ ;\n",
    "$ \\theta_{I} = 9.88 $\n",
    "\n",
    "Entrada do segundo reator:\n",
    "\n",
    "$ F_{A1} =  1.463 . 10^{-3} kmol/s $\n",
    "\n",
    "$ F_{B1} =  7.466 . 10^{-3} kmol/s $ ;\n",
    "$ \\theta_{B1} = 5.10 $\n",
    "\n",
    "$ F_{I1} =  58.885 . 10^{-3} kmol/s $ ;\n",
    "$ \\theta_{I1} = 40.26 $\n",
    "\n",
    "$ F_{P1} =  4.497 . 10^{-3} kmol/s $ ;\n",
    "$ \\theta_{P1} = 3.07 $"
   ]
  },
  {
   "cell_type": "code",
   "execution_count": 11,
   "id": "dfd53c90",
   "metadata": {},
   "outputs": [],
   "source": [
    "# I DID\n",
    "# initial conditions and other constants\n",
    "\n",
    "P1 = 1.3   #atm\n",
    "T1 = 643.   #K\n",
    "pA1 = P1 * yA1  #atm CHANGED\n",
    "#FA0 = 5.96e-3   #kmol/s\n",
    "Mmed1 = yA1 * 64 + yB1 * 32 + yI1 * 28 + yP1 * 80   # CHANGED\n",
    "rog1 = P1 * Mmed1 / (0.082 * T1)   #kg/m3\n",
    "\n",
    "EPA1 = - 0.5 * yA1\n",
    "#tetaB = 1.63\n",
    "#tetaI = 9.88\n",
    "\n",
    "Eb = 0.4\n",
    "Ac = 2.6    # m2\n",
    "rop = 600   # kg/m3\n",
    "\n",
    "gc = 32.3    # lbm / ft (lbf s2)\n",
    "visc = 2.5e-5    # lbm / (s ft)\n",
    "dp=0.0208    # ft\n",
    "G = 0.1855    # lbm / (ft2 s)"
   ]
  },
  {
   "cell_type": "code",
   "execution_count": 12,
   "id": "697115a3",
   "metadata": {},
   "outputs": [],
   "source": [
    "# defining ODEs to run odeint\n",
    "\n",
    "def odes1(vec, L):\n",
    "    \"\"\" Solves coupled ODEs.\n",
    "    \n",
    "    Args:\n",
    "        vec (list of floats): List the initial conditions for variables T, x and P in that order.\n",
    "        L (numpy array): array to which solve.\n",
    "        \n",
    "    Returns:\n",
    "        list of arrays: returns solved T, x and P for L.\n",
    "    \n",
    "    \"\"\"\n",
    "    \n",
    "    # assign each ODE to its initial condition\n",
    "    T = vec[0]\n",
    "    x = vec[1]\n",
    "    P = vec[2]   \n",
    "    \n",
    "    # coefficients\n",
    "    k1 = np.exp(12.07) * np.exp(-31000 / (1.987 * T))\n",
    "    k2 = np.exp(22.75) * np.exp(-53600 / (1.987 * T))\n",
    "    \n",
    "    R1 = k1 * (pA1 ** 2) * (1-x) * (tetaB1 - 0.5 * x) / (1 + EPA1 * x)**2 * (P**2) / (P1**2)\n",
    "    R2 = k2 * (pA1** 1.5) * x * (tetaB1 - 0.5 * x)**0.5 / (1 + EPA1 * x)**1.5 * (P**1.5) / (P1**1.5)\n",
    "    R3 = pA1**0.5 * (1-x)**0.5 / (1 + EPA1 * x)**0.5 * (P**0.5) / (P1**0.5)\n",
    "    rA = -(R1-R2) / R3    #kmol/(kg s)\n",
    "    \n",
    "    somatetacp1 = 339.686 + 0.1169215 * T    # kcal / (kmol K)\n",
    "    deltacp = - 0.76 + 3.66e-3 * T   \n",
    "    deltaHr = (-24.6 + 1.99e-3 * T) * 1000    #kcal/kmol\n",
    "    \n",
    "    betaing = G / (dp * gc) * ((1 - Eb) / Eb ** 3) * (150 * (1 - Eb) * visc / dp + 1.75 * G)    #lbf/ft6\n",
    "    beta = betaing * 2.82e3 / 1.12    #N/(kg*m6)\n",
    "    beta1 = (beta/rog1) / 1e5    #atm/m\n",
    "    \n",
    "    # define each ODE\n",
    "    dTdL = -deltaHr * (-rA) / (FA1 * (somatetacp1 + x * deltacp))*((1 - Eb) * rop * Ac)\n",
    "    dxdL = -rA/FA1 * ((1 - Eb) * rop * Ac)\n",
    "    dPdL = -beta1 * (P1/P) * (T/T1) * (1 + EPA1 * x)\n",
    "    \n",
    "    return np.array([dTdL[0], dxdL[0], dPdL[0]])"
   ]
  },
  {
   "cell_type": "code",
   "execution_count": 50,
   "id": "ec121c15",
   "metadata": {},
   "outputs": [
    {
     "name": "stderr",
     "output_type": "stream",
     "text": [
      "C:\\Users\\LUCCAM~1\\AppData\\Local\\Temp/ipykernel_8168/2366186587.py:25: RuntimeWarning: invalid value encountered in double_scalars\n",
      "  R2 = k2 * (pA1** 1.5) * x * (tetaB1 - 0.5 * x)**0.5 / (1 + EPA1 * x)**1.5 * (P**1.5) / (P1**1.5)\n",
      "C:\\Users\\LUCCAM~1\\AppData\\Local\\Temp/ipykernel_8168/2366186587.py:26: RuntimeWarning: invalid value encountered in double_scalars\n",
      "  R3 = pA1**0.5 * (1-x)**0.5 / (1 + EPA1 * x)**0.5 * (P**0.5) / (P1**0.5)\n"
     ]
    },
    {
     "data": {
      "text/plain": [
       "array([0.74938913, 0.75840854, 0.76734475, 0.7761907 , 0.7849393 ,\n",
       "       0.79358336, 0.80211564, 0.81052885, 0.81881566, 0.8269688 ,\n",
       "       0.83498102, 0.84284512, 0.85055404, 0.85810082, 0.86547869,\n",
       "       0.87268103, 0.87970151, 0.88653404, 0.89317284, 0.89961242,\n",
       "       0.90584769, 0.91187394, 0.91768688, 0.92328266, 0.92865793,\n",
       "       0.93380979, 0.93873591, 0.94343445, 0.94790416, 0.95214434,\n",
       "       0.95615487, 0.95993621, 0.96348943, 0.96681621, 0.96991885,\n",
       "       0.97280026, 0.97546402, 0.97791436, 0.98015619, 0.98219512,\n",
       "       0.98403757, 0.98569069, 0.98716249, 0.98846189, 0.98959869,\n",
       "       0.99058358, 0.99142813, 0.99214456, 0.99274559, 0.99324417,\n",
       "       0.99365313, 0.99398483, 0.99425086, 0.99446181, 0.99462697,\n",
       "       0.99475446, 0.99485123, 0.994923  , 0.99497449, 0.99500955,\n",
       "       0.99503128, 0.99504213, 0.99504406, 0.99503864, 0.99502708,\n",
       "       0.99501034, 0.99498916, 0.99496413, 0.99493568, 0.99490416,\n",
       "       0.99486982, 0.99483284, 0.99479337, 0.99475148, 0.99470722,\n",
       "       0.99466061, 0.99461165, 0.99456031, 0.99450655, 0.99445033,\n",
       "       0.99439159, 0.99433029, 0.99426637, 0.99419984, 0.99413075,\n",
       "       0.99405923, 0.99398558, 0.99391044, 0.99383504, 0.99376212,\n",
       "       0.99369951,        nan,        nan,        nan,        nan,\n",
       "              nan,        nan,        nan,        nan,        nan])"
      ]
     },
     "execution_count": 50,
     "metadata": {},
     "output_type": "execute_result"
    }
   ],
   "source": [
    "# initial conditions\n",
    "vec1 = np.array([T0, float(x_ode[Tf]), P0])  # T0 (K), x0, P0 (atm)\n",
    "L0 = 0.\n",
    "Lf = 20.    # initial guess\n",
    "L1 = np.linspace(L0, Lf, 100)\n",
    "\n",
    "# solving coupled ODEs\n",
    "vec_ode1 = odeint(odes1, vec1, L1)\n",
    "\n",
    "T_ode1 = vec_ode1[:, 0]    # assigning solved temperature in L\n",
    "x_ode1 = vec_ode1[:, 1]    # assigning solved conversion in L\n",
    "P_ode1 = vec_ode1[:, 2]    # assigning solved pressure in L\n",
    "\n",
    "x_99 = np.where(x_ode1 == x_ode1[x_ode1 > 0.99][0])\n",
    "x_ode1"
   ]
  },
  {
   "cell_type": "code",
   "execution_count": 58,
   "id": "264e82ba",
   "metadata": {},
   "outputs": [
    {
     "data": {
      "text/plain": [
       "Text(0.5, 0.98, 'Second Reactor')"
      ]
     },
     "execution_count": 58,
     "metadata": {},
     "output_type": "execute_result"
    },
    {
     "data": {
      "image/png": "[encoded data removed]",
      "text/plain": [
       "<Figure size 1296x432 with 3 Axes>"
      ]
     },
     "metadata": {
      "needs_background": "light"
     },
     "output_type": "display_data"
    }
   ],
   "source": [
    "# plot the results\n",
    "fig, ax = plt.subplots(nrows=1, ncols=3, figsize=(18,6))    # creating subplot\n",
    "\n",
    "ax[0].plot(L1, T_ode1)    # plotting T over L\n",
    "ax[0].set_xlabel(\"L (m)\", fontsize=12)\n",
    "ax[0].set_ylabel(\"Temperature (K)\", fontsize=12)\n",
    "\n",
    "ax[1].plot(L1, x_ode1)    # plotting x over L\n",
    "ax[1].set_xlabel(\"L (m)\", fontsize=12)\n",
    "ax[1].set_ylabel(\"Conversion (%)\", fontsize=12)\n",
    "\n",
    "ax[2].plot(L1, P_ode1)    # plotting P over L\n",
    "ax[2].set_xlabel(\"L (m)\", fontsize=12)\n",
    "ax[2].set_ylabel(\"Pressure (atm)\", fontsize=12)\n",
    "\n",
    "# PLOT variables at 99% conversion\n",
    "ax[1].axhline(y=0.99, xmin=0, xmax=9.50/20, color='r', linestyle='-')\n",
    "ax[1].axvline(x=8.8, ymin=0/1, ymax=.99/1.0, color ='r', linestyle='-')\n",
    "\n",
    "plt.suptitle('Second Reactor', fontsize=20)"
   ]
  },
  {
   "cell_type": "code",
   "execution_count": 49,
   "id": "9ab3991e",
   "metadata": {},
   "outputs": [
    {
     "name": "stdout",
     "output_type": "stream",
     "text": [
      "----------------------------------------\n",
      "Dados para Conversão de 99% : \n",
      "\n",
      "========================================\n",
      "L (x = 0.99) = 9.09 m.\n",
      "T (x = 0.99) = 656.48 K.\n",
      "P (x = 0.99) = 0.92 atm.\n",
      "----------------------------------------\n",
      "P0 - P(Tmax) = 0.38 atm\n",
      "========================================\n",
      "\n",
      "\n",
      "\n"
     ]
    }
   ],
   "source": [
    "x_99_index = np.where(x_ode1 == x_ode1[x_ode1 > 0.99][0])\n",
    "x_99 = x_ode1[x_99_index]\n",
    "\n",
    "# printing some results\n",
    "\n",
    "print(\"-\" * 40)\n",
    "print(\"Dados para Conversão de 99% : \\n\")\n",
    "print(\"=\" * 40)\n",
    "print(\"L (x = 0.99) = {:.2f} m.\".format(L1[x_99_index][0]))\n",
    "print(\"T (x = 0.99) = {:.2f} K.\".format(T_ode1[x_99_index][0]))\n",
    "print(\"P (x = 0.99) = {:.2f} atm.\".format(P_ode1[x_99_index][0]))\n",
    "print(\"-\" * 40)\n",
    "print(\"P0 - P(Tmax) = {:.2f} atm\".format(float(P_ode1[0] - P_ode1[x_99_index])))\n",
    "print(\"=\" * 40)\n",
    "\n",
    "print(\"\\n\" * 2)"
   ]
  },
  {
   "cell_type": "code",
   "execution_count": 67,
   "id": "a972017c",
   "metadata": {},
   "outputs": [
    {
     "name": "stdout",
     "output_type": "stream",
     "text": [
      "First Reactor Effluents:\n",
      "\n",
      "Second reactor's feeding:\n",
      "FA1 = 0.001083 kmol/s\n",
      "FB1 = 0.005424 kmol/s\n",
      "FI1 = 0.042693 kmol/s\n",
      "FP1 = 0.003238 kmol/s\n",
      "------------------------------\n",
      "FT1 = 0.052439 kmol/s\n",
      "==============================\n",
      "\n",
      "\n",
      "Second reactor's effluents:\n",
      "\n",
      "FA2= 0.000041 kmol/s\n",
      "FB2= 0.008963 kmol/s\n",
      "FI2= 0.170216 kmol/s\n",
      "FP2= 0.006621 kmol/s\n",
      "------------------------------\n",
      "FT2= 0.185841 kmol/s\n",
      "==============================\n",
      "\n",
      "\n",
      "yA2 = 0.00\n",
      "yB2 = 0.05\n",
      "yP2 = 0.04\n",
      "yI2 = 0.92\n",
      "\n",
      "\n",
      "tetaB2 = 220.45\n",
      "tetaP2 = 162.85\n",
      "tetaI2 = 4186.69\n"
     ]
    }
   ],
   "source": [
    "FA2 = FA0 * (1 - x_ode1[x_99_index]) / (1 + EPA * x_ode1[x_99_index]) * (P_ode1[x_99_index] / P0) * (T0 / T_ode1[x_99_index])\n",
    "FB2 = FB1 + (FA1 * tetaB1 - (1/2) * FA1 * x_ode1[x_99_index]) / (1 + EPA * x_ode1[x_99_index]) * (P_ode1[x_99_index] / P0) * (T0 / T_ode1[x_99_index])\n",
    "FI2 = FA0 * tetaI1  / (1 + EPA * x_ode1[x_99_index]) * (P_ode1[x_99_index] / P0) * (T0 / T_ode1[x_99_index])\n",
    "FP2 = (FP1 + FA0 * x_ode1[x_99_index])  / (1 + EPA * x_ode1[x_99_index]) * (P_ode1[x_99_index] / P0) * (T0 / T_ode1[x_99_index])\n",
    "FT2 = FA2 + FB2 + FP2 + FI2\n",
    "\n",
    "print(\"First Reactor Effluents:\\n\")\n",
    "print(\"Second reactor's feeding:\")\n",
    "\n",
    "print(\"FA1 = {:.6f} kmol/s\".format(float(FA1)))\n",
    "print(\"FB1 = {:.6f} kmol/s\".format(float(FB1)))\n",
    "print(\"FI1 = {:.6f} kmol/s\".format(float(FI1)))\n",
    "print(\"FP1 = {:.6f} kmol/s\".format(float(FP1)))\n",
    "print(\"-\" * 30)\n",
    "print(\"FT1 = {:.6f} kmol/s\".format(float(FT1)))\n",
    "\n",
    "print(\"=\" * 30)\n",
    "print(\"\\n\")\n",
    "\n",
    "print(\"Second reactor's effluents:\\n\")\n",
    "\n",
    "print(\"FA2= {:.6f} kmol/s\".format(float(FA2)))\n",
    "print(\"FB2= {:.6f} kmol/s\".format(float(FB2)))\n",
    "print(\"FI2= {:.6f} kmol/s\".format(float(FI2)))\n",
    "print(\"FP2= {:.6f} kmol/s\".format(float(FP2)))\n",
    "print(\"-\" * 30)\n",
    "print(\"FT2= {:.6f} kmol/s\".format(float(FT2)))\n",
    "\n",
    "print(\"=\" * 30)\n",
    "print(\"\\n\")\n",
    "\n",
    "yA2 = FA2 / FT2\n",
    "yB2 = FB2 / FT2\n",
    "yP2 = FP2 / FT2\n",
    "yI2 = FI2 / FT2\n",
    "\n",
    "print(\"yA2 = {:.2f}\".format(float(yA2)))\n",
    "print(\"yB2 = {:.2f}\".format(float(yB2)))\n",
    "print(\"yP2 = {:.2f}\".format(float(yP2)))\n",
    "print(\"yI2 = {:.2f}\".format(float(yI2)))\n",
    "\n",
    "tetaB2 = yB2 / yA2\n",
    "tetaI2 = yI2 / yA2\n",
    "tetaP2 = yP2 / yA2\n",
    "\n",
    "print(\"\\n\")\n",
    "\n",
    "print(\"tetaB2 = {:.2f}\".format(float(tetaB2)))\n",
    "print(\"tetaP2 = {:.2f}\".format(float(tetaP2)))\n",
    "print(\"tetaI2 = {:.2f}\".format(float(tetaI2)))"
   ]
  },
  {
   "cell_type": "markdown",
   "id": "a412056c",
   "metadata": {},
   "source": [
    "# Quanto de catalisador é necessário?"
   ]
  },
  {
   "cell_type": "markdown",
   "id": "ce768d8c",
   "metadata": {},
   "source": [
    "$$ W = \\rho_{b} A_c L$$\n",
    "$$ W = \\rho_{P} . (1 - \\epsilon_{b}) . A_c . (L_1 + L_2)$$"
   ]
  },
  {
   "cell_type": "code",
   "execution_count": 64,
   "id": "a85f6a3c",
   "metadata": {},
   "outputs": [
    {
     "name": "stdout",
     "output_type": "stream",
     "text": [
      "A massa necessária de catalisador é aproximadamente 11912.73 kg\n",
      "Isso equivale a 11.91 toneladas\n"
     ]
    }
   ],
   "source": [
    "rho_p = 600    # kg / m3\n",
    "\n",
    "W = rho_p * (1 - Eb) * Ac * (L[Tmax_index] + L1[x_99_index])[0]\n",
    "\n",
    "\n",
    "print(\"A massa necessária de catalisador é aproximadamente {:.2f} kg\".format(float(W)))\n",
    "print(\"Isso equivale a {:.2f} toneladas\".format(float(W / 1000.)))"
   ]
  },
  {
   "cell_type": "code",
   "execution_count": null,
   "id": "0d5fe7b0",
   "metadata": {},
   "outputs": [],
   "source": []
  }
 ],
 "metadata": {
  "kernelspec": {
   "display_name": "Python 3 (ipykernel)",
   "language": "python",
   "name": "python3"
  },
  "language_info": {
   "codemirror_mode": {
    "name": "ipython",
    "version": 3
   },
   "file_extension": ".py",
   "mimetype": "text/x-python",
   "name": "python",
   "nbconvert_exporter": "python",
   "pygments_lexer": "ipython3",
   "version": "3.9.7"
  }
 },
 "nbformat": 4,
 "nbformat_minor": 5
}
