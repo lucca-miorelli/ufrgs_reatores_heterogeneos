{
  "nbformat": 4,
  "nbformat_minor": 0,
  "metadata": {
    "colab": {
      "name": "Cálculo de Reatores Químicos Heterogêneos - Desativação de Catalisadores",
      "provenance": [],
      "authorship_tag": "ABX9TyOMYE5YbwyKWs0VMUMCMWNe",
      "include_colab_link": true
    },
    "kernelspec": {
      "name": "python3",
      "display_name": "Python 3"
    },
    "language_info": {
      "name": "python"
    }
  },
  "cells": [
    {
      "cell_type": "markdown",
      "metadata": {
        "id": "view-in-github",
        "colab_type": "text"
      },
      "source": [
        "<a href=\"https://colab.research.google.com/github/lucca-miorelli/ufrgs_reatores_heterogeneos/blob/main/C%C3%A1lculo_de_Reatores_Qu%C3%ADmicos_Heterog%C3%AAneos_Desativa%C3%A7%C3%A3o_de_Catalisadores.ipynb\" target=\"_parent\"><img src=\"https://colab.research.google.com/assets/colab-badge.svg\" alt=\"Open In Colab\"/></a>"
      ]
    },
    {
      "cell_type": "markdown",
      "source": [
        "#Cálculo de Reatores Químicos Heterogêneos\n",
        "\n",
        "<center><img alt=\"oil_industry\" width=\"55%\" src=\"https://raw.githubusercontent.com/lucca-miorelli/ufrgs_reatores_heterogeneos/main/dimitry-anikin-ATyawSn-NsE-unsplash%20(1).jpg\"></center>\n",
        "\n",
        "Photo by <a href=\"https://unsplash.com/@anikinearthwalker?utm_source=unsplash&utm_medium=referral&utm_content=creditCopyText\">Dimitry Anikin</a> on <a href=\"https://unsplash.com/s/photos/chemical?utm_source=unsplash&utm_medium=referral&utm_content=creditCopyText\">Unsplash</a>\n",
        "\n",
        "  \n",
        "\n",
        "## Fundamentos de Catálise\n",
        "Um **catalisador** é uma substância que afeta a **taxa da reação química** através da mudança de mecanismo, sem perder sua identidade química.\n",
        "Catalisadores **não**:\n",
        "* mudam a entalpia da reação;\n",
        "* alteram a composição final do equilíbrio química;\n",
        "* fazem com que espécies que não tenham afinidade química interajam entre si.\n",
        "\n",
        "Catálises podem ser divididas em duas categorias:\n",
        "* **Homogênea**: processos nos quais o catalisador está em solução com pelo menos um dos reagentes.\n",
        "* **Heterogênea**: quando envolve mais de uma fase; ocorre na interface com o sólido.\n",
        "\n",
        "Catalisadores podem ser **porosos, monolíticos ou suportados**.\n",
        "\n",
        "### Desativação de Catalisadores\n",
        "A desativação de catalisadores ocorre naturalmente pela redução da disponibilidade de sítios ativos com o tempo. A atividade do catalisador $a(t)$ passa a integrar a equação da taxa da reação química $-r_a'$.\n",
        "\n",
        "Por definição, a atividade do catalisador é a taxa da reação química no momento $t$ dividida pela taxa em $t=0$. Como:\n",
        "\n",
        " $$\n",
        " a(t) = \\frac{-r_a'(t)}{-r_a'(t=0)}\n",
        " $$\n",
        "\n",
        " A desativação pode ocorrer de 3 formas: por **sinterização (aging)**, por **deposição de coque(coking ou fouling)** ou por **envenenamento**.\n",
        "\n",
        "\n",
        "---\n",
        "---"
      ],
      "metadata": {
        "id": "zkiR8Sv0BuDy"
      }
    },
    {
      "cell_type": "markdown",
      "source": [
        "# Exemplo\n",
        "<center><img alt=\"ex_1\" width=\"65%\" src=\"https://raw.githubusercontent.com/lucca-miorelli/ufrgs_reatores_heterogeneos/main/desativacao_catalisadores_ex1.png\"></center>\n",
        "\n",
        "Reação reversível entre dois gases A<==>R em reator de leito fixo.\n",
        "* $F_{a_o} = 5 kmol\\cdot h^{-1}$\n",
        "* $T = 730 K$\n",
        "* $P = 3 atm$\n",
        "* $W = 1000 kg$\n",
        "\n",
        "$-r_a' = 0,2 \\cdot C_a^2 \\cdot a(t)$\n",
        " \n",
        " Obter gráfixo $x_a(t)$:\n",
        "\n",
        " $x_a = f(t) = ?$\n",
        "\n",
        "\n",
        "---\n",
        "---\n",
        "Do Balanço Molar:\n",
        "\n",
        "\n",
        "* $-\\frac{\\partial F_a}{\\partial W} = (-r_a ')$ $[1]$\n",
        "* $ F_a = F_{a_o} (1-x_a) $ $[2]$\n",
        "\n",
        "Da cinética:\n",
        "* $ -r_a' = 0,2 \\cdot C_a^2 \\cdot a(t) $ **$[3]$**\n",
        "\n",
        "Logo,\n",
        "\n",
        "*  $ F_{a_o} \\frac{\\partial F_a}{\\partial W} = 0,2 . C_{a_o}^2 \\cdot (1-x_a)^2 \\cdot a(t) $ \n",
        "\n",
        "Separando variáveis e integrando de 0 a $x_a$ e de 0 a $W$, considerando que desativação é infinitamente mais lento que tempo de residência da mistura reacional no reator.\n",
        "\n",
        "* $γ = \\frac{0,2 \\cdot Ca_o^2}{Fa_o} = 100$\n",
        "\n",
        "$$  x_a = 1 - \\frac{1}{γ \\cdot a(t) + 1} $$\n",
        "\n",
        "Com a função acima, precisamos calcular a taxa de desativação para cada item **a, b, c e d**, e então obtemos $x_a(t)$.\n",
        "\n",
        "O gráfico comparando a desativação de cada item está no final do notebook."
      ],
      "metadata": {
        "id": "kksz36PKDGgK"
      }
    },
    {
      "cell_type": "code",
      "source": [
        "# importando bibliotecas necessárias\n",
        "import numpy as np\n",
        "import matplotlib.pyplot as plt\n",
        "import sympy as sp\n",
        "\n",
        "# definindo variável Gamma dada no exercício\n",
        "gamma = 100\n",
        "\n",
        "# definindo vetor tempo\n",
        "T = np.array([i for i in range(121)])\n",
        "T = T.astype(float)"
      ],
      "metadata": {
        "id": "l9KrrB47ILFf"
      },
      "execution_count": null,
      "outputs": []
    },
    {
      "cell_type": "markdown",
      "source": [
        "---\n",
        "\n",
        "\n",
        "\n",
        "---\n",
        "\n",
        "\n",
        "#### a) $ - \\frac{∂a}{∂t} = 8.3 \\cdot 10^{-3} \\cdot t$"
      ],
      "metadata": {
        "id": "3zIfGKqEGMnR"
      }
    },
    {
      "cell_type": "code",
      "source": [
        "# definindo variáveis utilizadas na integração\n",
        "t = sp.Symbol(\"t\")\n",
        "a = sp.Symbol(\"a\")\n",
        "\n",
        "# calculando integrais necessárias\n",
        "print(\"Integral da esquerda: {}\".format(sp.integrate( -1, (a, 1, a))))\n",
        "print(\"Integral da direita: {}\".format(sp.integrate( 1, (t, 0, t))))\n",
        "print(\"a(t) = 1 - 8.3 * 10 ^ -3 * T\")"
      ],
      "metadata": {
        "colab": {
          "base_uri": "https://localhost:8080/"
        },
        "id": "MhlW4y8qqXg0",
        "outputId": "1cdfca90-5c1e-4ef9-9a28-234d79877900"
      },
      "execution_count": null,
      "outputs": [
        {
          "output_type": "stream",
          "name": "stdout",
          "text": [
            "Integral da esquerda: 1 - a\n",
            "Integral da direita: t\n",
            "a(t) = 1 - 8.3 * 10 ^ -3 * T\n"
          ]
        }
      ]
    },
    {
      "cell_type": "markdown",
      "source": [
        "$$\n",
        "a(t) = 1- 8.3 \\cdot 10^{-3} \\cdot t\n",
        "$$"
      ],
      "metadata": {
        "id": "RIro-UAJPIoO"
      }
    },
    {
      "cell_type": "code",
      "source": [
        "# função que retorna a conversão no tempo\n",
        "def XA_A(T):\n",
        "  at_a = 1 - T * 8.3 * 10 ** -3\n",
        "  xa_a = 1 - (gamma * at_a + 1) ** -1\n",
        "  return xa_a\n",
        "\n",
        "# obter conversão no tempo\n",
        "xa_a = XA_A(T)"
      ],
      "metadata": {
        "id": "JNMPu0ldDG0Z"
      },
      "execution_count": null,
      "outputs": []
    },
    {
      "cell_type": "markdown",
      "source": [
        "\n",
        "\n",
        "---\n",
        "\n",
        "\n",
        "\n",
        "---\n",
        "\n",
        "\n",
        "\n",
        "---\n",
        "\n",
        "\n",
        "#### a) $ - \\frac{∂a}{∂t} = 10^{3} \\cdot (C_A + C_R) \\cdot a$"
      ],
      "metadata": {
        "id": "iFMCcNAAtVlB"
      }
    },
    {
      "cell_type": "code",
      "source": [
        "# calculando integrais necessárias\n",
        "print(\"Integral da esquerda: {}\".format(sp.integrate( - a ** -1, (a, 1, a))))\n",
        "print(\"Integral da direita: {}\".format(sp.integrate( 1, (t, 0, t))))\n",
        "print(\"a(t) = exp ( - 50 * 10 ** -3 * t)\")"
      ],
      "metadata": {
        "id": "Bp81NyCBIinB",
        "colab": {
          "base_uri": "https://localhost:8080/"
        },
        "outputId": "3763bbc4-c6f9-4a98-8dd6-81b5f963c608"
      },
      "execution_count": null,
      "outputs": [
        {
          "output_type": "stream",
          "name": "stdout",
          "text": [
            "Integral da esquerda: -log(a)\n",
            "Integral da direita: t\n",
            "a(t) = exp ( - 50 * 10 ** -3 * t)\n"
          ]
        }
      ]
    },
    {
      "cell_type": "markdown",
      "source": [
        "$$\n",
        "a(t) = \\exp{(-50 \\cdot 10^{-3} \\cdot t)}\n",
        "$$"
      ],
      "metadata": {
        "id": "0izn9FJNPTt1"
      }
    },
    {
      "cell_type": "code",
      "source": [
        "# função que retorna a conversão no tempo\n",
        "def XA_B(T):\n",
        "  at_b = np.exp(T * 50 * -1 * 10 ** -3)\n",
        "  xa_b = 1 - (gamma * at_b + 1) ** -1\n",
        "  return xa_b\n",
        "\n",
        "# obter conversão no tempo\n",
        "xa_b = XA_B(T)\n"
      ],
      "metadata": {
        "id": "iQoYQnT1vjze"
      },
      "execution_count": null,
      "outputs": []
    },
    {
      "cell_type": "markdown",
      "source": [
        "\n",
        "---\n",
        "\n",
        "\n",
        "\n",
        "---\n",
        "\n",
        "\n",
        "\n",
        "#### c) $ - \\frac{∂a}{∂t} = 3.3 \\cdot a^2$"
      ],
      "metadata": {
        "id": "we7Fa_ZTzyyA"
      }
    },
    {
      "cell_type": "code",
      "source": [
        "# calculando integrais necessárias\n",
        "print(\"Integral da esquerda: {}\".format(sp.integrate( - a ** -2, (a, 1, a))))\n",
        "print(\"Integral da direita: {}\".format(sp.integrate( 1, (t, 0, t))))\n",
        "print(\"a(t) =  1 / (3.3 * T + 1)\")"
      ],
      "metadata": {
        "colab": {
          "base_uri": "https://localhost:8080/"
        },
        "id": "gcn_F2Riz88c",
        "outputId": "7ee37c90-2449-4efe-bbb5-fced93ba9d9c"
      },
      "execution_count": null,
      "outputs": [
        {
          "output_type": "stream",
          "name": "stdout",
          "text": [
            "Integral da esquerda: -1 + 1/a\n",
            "Integral da direita: t\n",
            "a(t) =  1 / (3.3 * T + 1)\n"
          ]
        }
      ]
    },
    {
      "cell_type": "markdown",
      "source": [
        "$$\n",
        "a(t) = \\frac{1}{3.3 \\cdot t + 1}\n",
        "$$"
      ],
      "metadata": {
        "id": "0BHP9SkYPpoU"
      }
    },
    {
      "cell_type": "code",
      "source": [
        "# função que retorna a conversão no tempo\n",
        "def XA_C(T):\n",
        "  at_c = (3.3 * T + 1) ** -1\n",
        "  xa_c = 1 - (gamma * at_c + 1) ** -1\n",
        "  return xa_c\n",
        "\n",
        "# obter conversão no tempo\n",
        "xa_c = XA_C(T)"
      ],
      "metadata": {
        "id": "YMbUm-P60V3U"
      },
      "execution_count": null,
      "outputs": []
    },
    {
      "cell_type": "markdown",
      "source": [
        "\n",
        "---\n",
        "\n",
        "\n",
        "\n",
        "---\n",
        "\n",
        "\n",
        "\n",
        "#### d) $ - \\frac{∂a}{∂t} = 666.5 \\cdot a^3$"
      ],
      "metadata": {
        "id": "2lA5Ui471NNa"
      }
    },
    {
      "cell_type": "code",
      "source": [
        "# calculando integrais necessárias\n",
        "print(\"Integral da esquerda:{}\".format(sp.integrate(- a ** -3, (a, 1, a))))\n",
        "print(\"Integral da direita: {}\".format(sp.integrate(1, (t, 0, t))))\n",
        "print(\"a(t) = sqrt([1333.t + 1]^-1)\")"
      ],
      "metadata": {
        "colab": {
          "base_uri": "https://localhost:8080/"
        },
        "id": "EfIM4Xxq1Ku_",
        "outputId": "9db24f08-4ef4-402f-d14b-34ffab8402a8"
      },
      "execution_count": null,
      "outputs": [
        {
          "output_type": "stream",
          "name": "stdout",
          "text": [
            "Integral da esquerda:-1/2 + 1/(2*a**2)\n",
            "Integral da direita: t\n",
            "a(t) = sqrt([1333.t + 1]^-1)\n"
          ]
        }
      ]
    },
    {
      "cell_type": "markdown",
      "source": [
        "$$\n",
        "a(t) = \\sqrt{\\frac{1}{1333 \\cdot t + 1}}\n",
        "$$"
      ],
      "metadata": {
        "id": "IYmja99BQTYX"
      }
    },
    {
      "cell_type": "code",
      "source": [
        "# função que retorna a conversão no tempo\n",
        "def XA_D(T):\n",
        "  at_d = np.sqrt((1333.0 * T + 1) ** -1)\n",
        "  xa_d = 1 - (gamma * at_d + 1) ** -1\n",
        "  return xa_d\n",
        "\n",
        "# obter conversão no tempo\n",
        "xa_d = XA_D(T)\n"
      ],
      "metadata": {
        "id": "hkFaMNpo1iBR"
      },
      "execution_count": null,
      "outputs": []
    },
    {
      "cell_type": "markdown",
      "source": [
        "\n",
        "\n",
        "---\n",
        "\n",
        "\n",
        "\n",
        "---\n",
        "\n",
        "# Resultados:"
      ],
      "metadata": {
        "id": "P6Rmj_ycStTn"
      }
    },
    {
      "cell_type": "code",
      "source": [
        "# Plotar resultados\n",
        "\n",
        "# Criar figura e axes para plotar conversão no tempo\n",
        "fig, ax = plt.subplots(figsize=(9,6))\n",
        "\n",
        "# plotar todas as conversões no tempo\n",
        "for x in [xa_a, xa_b, xa_c, xa_d]:\n",
        "  ax.plot(T, x, lw=3)\n",
        "\n",
        "for y in np.arange(0.2, 1.1, 0.1).tolist():\n",
        "  plt.axhline(y, lw=0.2, color='black')\n",
        "\n",
        "# customizar gráfico\n",
        "ax.spines['top'].set_visible(False)\n",
        "ax.spines['right'].set_visible(False)\n",
        "plt.legend(['a)', 'b)', 'c)', 'd)'], loc='lower left')\n",
        "#text\n",
        "ax.text(0, 1.12,'Desativação de Catalisadores em Leito Fixo',\n",
        "        transform=ax.transAxes, fontsize=20)\n",
        "ax.text(0, 1.06,'Isomerização', transform=ax.transAxes, fontsize='15')\n",
        "ax.set_xlabel('Tempo (dias)', fontsize=15)\n",
        "ax.set_ylabel('Conversão', fontsize=15)"
      ],
      "metadata": {
        "colab": {
          "base_uri": "https://localhost:8080/",
          "height": 464
        },
        "id": "I7F8OHRjQ2yt",
        "outputId": "a1755eb6-066a-4562-d7e5-a8752ec54608"
      },
      "execution_count": null,
      "outputs": [
        {
          "output_type": "execute_result",
          "data": {
            "text/plain": [
              "Text(0, 0.5, 'Conversão')"
            ]
          },
          "metadata": {},
          "execution_count": 11
        },
        {
          "output_type": "display_data",
          "data": {
            "image/png": "[encoded data removed]",
            "text/plain": [
              "<Figure size 648x432 with 1 Axes>"
            ]
          },
          "metadata": {
            "needs_background": "light"
          }
        }
      ]
    },
    {
      "cell_type": "markdown",
      "source": [
        "<img alt=\"lucca_assinatura\" width=\"60%\" src=\"https://raw.githubusercontent.com/lucca-miorelli/ds_projects/main/lucca_github.png\">\n",
        "\n",
        "[Github](https://github.com/lucca-miorelli/ds_projects) | [Linkedin](https://www.linkedin.com/in/lucca-miorelli/)"
      ],
      "metadata": {
        "id": "PFGEbzu9S69P"
      }
    }
  ]
}