{
 "cells": [
  {
   "cell_type": "code",
   "execution_count": 2,
   "id": "a90911b0",
   "metadata": {},
   "outputs": [],
   "source": [
    "import numpy as np\n",
    "from scipy.integrate import odeint\n",
    "import sympy as sy\n",
    "import matplotlib.pyplot as plt"
   ]
  },
  {
   "cell_type": "markdown",
   "id": "83fe36aa",
   "metadata": {},
   "source": [
    "## Leito Fixo Bifásico COM Efeitos Difusivos"
   ]
  },
  {
   "cell_type": "markdown",
   "id": "026b6917",
   "metadata": {},
   "source": [
    "### Dados"
   ]
  },
  {
   "cell_type": "code",
   "execution_count": 135,
   "id": "b1c7abb6",
   "metadata": {},
   "outputs": [
    {
     "name": "stdout",
     "output_type": "stream",
     "text": [
      "Massa específica do leito: 840.0 kgP / m3 leito\n"
     ]
    }
   ],
   "source": [
    "## CINÉTICA\n",
    "# C10H8 + 4.5 02 --K1--> C8H4O2 + 2 CO2 + 2 H20\n",
    "# deltaH (630 K) = -429 kcal/mol\n",
    "# k1 = 5.74e13 * exp(-38000/RT) s^-1\n",
    "\n",
    "## CATALISADOR V2O5\n",
    "# Esférico\n",
    "dp = 0.318e-2 #m\n",
    "Sa = 80 #m2/g\n",
    "Eb = 0.4\n",
    "roP = 1.4  # g/cm3\n",
    "\n",
    "## REATOR\n",
    "# 0.75% Naftaleno\n",
    "# T < 673 K\n",
    "# deltaP < 1 atm\n",
    "# 1000 tubos, aço inovxidável 2in Sch40 (At = 2.165e-3 m2, d = 5.25e-2 m)\n",
    "At = 2.165e-3 #m2\n",
    "P0 = 1.7 #atm\n",
    "T0 = 630 #K\n",
    "\n",
    "## MISTURA REACIONAL\n",
    "# Cpmédio(630 K) = 0.255 cal/g.K\n",
    "# Mi mistura (cte) = 320e-6 Poise\n",
    "visc = 320e-6 / 10 # kg / m s\n",
    "# U = 1e-3 cal/s.cm2.K\n",
    "#Dab = 0.068 cm2/s\n",
    "Dab = 0.068/10000 #m2/s\n",
    "Def = 1.41/10000 #m2/s\n",
    "FA0_lb = 6e6 #lb/ano\n",
    "M_naftaleno = 128. # g/mol\n",
    "FA0_1000 = FA0_lb / 365 / 24 / 3600 / 2.20462 * 1000 /128 # gmol/s para os 1000 tubos\n",
    "FA0 = FA0_1000 / 1000\n",
    "ya0_naftaleno = 0.0075\n",
    "FT0 = FA0 * (1 - ya0_naftaleno) / ya0_naftaleno\n",
    "Mmed = ya0_naftaleno * 128 + (1 - ya0_naftaleno) * 0.21 * 32 + (1 - ya0_naftaleno) * 0.79 * 28\n",
    "\n",
    "## CÁLCULOS PRELIMINARES\n",
    "roB = (roP * 1000) * (1 - Eb)\n",
    "print(\"Massa específica do leito: {} kgP / m3 leito\".format(roB))"
   ]
  },
  {
   "cell_type": "markdown",
   "id": "630b9cf1",
   "metadata": {},
   "source": [
    "### Passo 1) Verificar Efeito Difusivo Intrapartícula\n",
    "Professora utilizou R = 2 cal/mol.K\n",
    "\n",
    "Professora errou valor de roP no cálculo de K2linha (usou 8.4e2 correto é 1.4e3 mas em thiele usou outro)\n",
    "\n",
    "Isso muda todo o exercício."
   ]
  },
  {
   "cell_type": "code",
   "execution_count": 141,
   "id": "1ebd510a",
   "metadata": {},
   "outputs": [
    {
     "name": "stdout",
     "output_type": "stream",
     "text": [
      "Estimar sempre na entrada pois concentração máxima.\n",
      "Mais provável ponto que etapa difusiva seja a mais lenta\n",
      "\n",
      "Kdada: 4.58 s^-1\n",
      "K2linha: 1.636755e-08 m3r / (m2p . s)\n",
      "thiele: 0.03, suficiente para ignorar cotangente.\n",
      "ni = tx_real / tx_Cas: 91.273\n",
      "==============================\n",
      "DIFUSÃO INTERNA IMPORTANTE!\n",
      "Equação da taxa deve ser corrigida.\n"
     ]
    }
   ],
   "source": [
    "print(\"Estimar sempre na entrada pois concentração máxima.\\nMais provável ponto que etapa difusiva seja a mais lenta\\n\")\n",
    "Kdada = 5.74e13 * np.exp(-38000 / (2 * T0))\n",
    "print(\"Kdada: {:.2f} s^-1\".format(Kdada))\n",
    "\n",
    "K2linha = Kdada * Eb / ((roP * 1000) * (Sa * 1000))\n",
    "print(\"K2linha: {:e} m3r / (m2p . s)\".format(K2linha))\n",
    "\n",
    "thiele = ((dp / 2)**2 * (Sa * 1000) * (roP * 1000) * K2linha ) / (Def)\n",
    "print(\"thiele: {:.2f}, suficiente para ignorar cotangente.\".format(thiele))\n",
    "\n",
    "ni = 3 / thiele\n",
    "print(\"ni = tx_real / tx_Cas: {:.3f}\".format(ni))\n",
    "\n",
    "print(\"=\" * 30)\n",
    "print(\"DIFUSÃO INTERNA IMPORTANTE!\")\n",
    "print(\"Equação da taxa deve ser corrigida.\")"
   ]
  },
  {
   "cell_type": "markdown",
   "id": "754eef8f",
   "metadata": {},
   "source": [
    "### Passo 2) Verificar Efeito Difusivo Externo"
   ]
  },
  {
   "cell_type": "code",
   "execution_count": 79,
   "id": "7e3264bc",
   "metadata": {},
   "outputs": [
    {
     "name": "stdout",
     "output_type": "stream",
     "text": [
      "a_ext: 1132.08 m^-1\n",
      "FA0 = 6.742189e-04 gmol/s por tubo.\n",
      "FT0 = 8.922164e-02 gmol/s por tubo\n",
      "Mmed = 29.58 g/mol\n",
      "Taxa total de massa: 2.64 g/s\n",
      "G = 1.22 kg / (s m2)\n",
      "Re = 121.16\n",
      "roP = 0.9735 kg/m3\n",
      "Sc = 4.706\n",
      "ohm = 0.177\n",
      "==============================\n",
      "ni / ohm = 1.00\n",
      "conc. bulk = conc. sup. ext.\n",
      "Sem gradiente de concentração na\n",
      " camada limite em torno da partícula.\n",
      "DIFUSÃO EXTERNA NEGLIGENCIÁVEL\n"
     ]
    }
   ],
   "source": [
    "a_ext = 6 / (dp / 100) * (1 - Eb)\n",
    "print(\"a_ext: {:.2f} m^-1\".format(a_ext))\n",
    "\n",
    "\n",
    "G = FT0 /1000 * Mmed / At\n",
    "print(\"FA0 = {:e} gmol/s por tubo.\".format(FA0))\n",
    "print(\"FT0 = {:e} gmol/s por tubo\".format(FT0))\n",
    "print(\"Mmed = {:.2f} g/mol\".format(Mmed))\n",
    "print(\"Taxa total de massa: {:.2f} g/s\".format(FT0 * Mmed))\n",
    "print(\"G = {:.2f} kg / (s m2)\".format(G))\n",
    "\n",
    "Re = dp / 100 * G / visc\n",
    "print(\"Re = {:.2f}\".format(Re))\n",
    "\n",
    "ro0 = P0 * Mmed / (0.082 * T0)\n",
    "print(\"roP = {:.4f} kg/m3\".format(ro0))\n",
    "\n",
    "Sc = visc / Dab\n",
    "print(\"Sc = {:.3f}\".format(Sc))\n",
    "\n",
    "Jd = 0.18  # revisar\n",
    "Sh = 37.1 # revisar\n",
    "Kc = 7.9e-2 # m/s\n",
    "\n",
    "ohm = ni / (1 + (ni * K2linha * Sa * roB / (Kc * a_ext)))\n",
    "print(\"ohm = {:.3f}\".format(ohm))\n",
    "\n",
    "print(\"=\" * 30)\n",
    "print(\"ni / ohm = {:.2f}\".format(ni / ohm))\n",
    "print(\"conc. bulk = conc. sup. ext.\")\n",
    "print(\"Sem gradiente de concentração na\\n camada limite em torno da partícula.\")\n",
    "print(\"DIFUSÃO EXTERNA NEGLIGENCIÁVEL\")"
   ]
  },
  {
   "cell_type": "markdown",
   "id": "62931d0f",
   "metadata": {},
   "source": [
    "### Passo 3) Adaptar equação da taxa"
   ]
  },
  {
   "cell_type": "markdown",
   "id": "dab19b46",
   "metadata": {},
   "source": [
    "$$ -r_a' = k' . C_{A_1} . a(t) . \\Omega $$\n",
    "\n",
    "$$ -r_a' = k' . \\frac{C_{A_0} . (1 - x_A)}{(1 + \\epsilon_A.x_A).(P_0 / P).(T / T_0)} . 1.00 . 0.177 $$\n",
    "\n",
    "$$ C_{A_0} = \\frac{P_{A_0}}{R . T_0} $$\n",
    "\n",
    "$$ \\epsilon_A = -0.5 . 0.0075 << 1 $$"
   ]
  },
  {
   "cell_type": "code",
   "execution_count": 87,
   "id": "337c43dd",
   "metadata": {},
   "outputs": [
    {
     "name": "stdout",
     "output_type": "stream",
     "text": [
      "CA0 = 0.247 gmol/m3\n"
     ]
    }
   ],
   "source": [
    "CA0 = P0 * ya0_naftaleno / (0.082 / 1000 * T0)\n",
    "print(\"CA0 = {:.3f} gmol/m3\".format(CA0))"
   ]
  },
  {
   "cell_type": "code",
   "execution_count": 88,
   "id": "5e7c10ef",
   "metadata": {},
   "outputs": [],
   "source": [
    "def rate_ra():\n",
    "    pass\n",
    "\n",
    "def mass_balance():\n",
    "    pass\n",
    "    \n",
    "def energy_balance():\n",
    "    pass\n",
    "    \n",
    "def momentum_balance():\n",
    "    pass"
   ]
  },
  {
   "cell_type": "code",
   "execution_count": 89,
   "id": "4cbcfde7",
   "metadata": {},
   "outputs": [],
   "source": [
    "## EM RESUMO"
   ]
  },
  {
   "cell_type": "code",
   "execution_count": 102,
   "id": "184b19b1",
   "metadata": {},
   "outputs": [
    {
     "data": {
      "text/plain": [
       "Text(0.5, 0.98, 'First Reactor')"
      ]
     },
     "execution_count": 102,
     "metadata": {},
     "output_type": "execute_result"
    },
    {
     "data": {
      "image/png": "[encoded data removed]",
      "text/plain": [
       "<Figure size 1296x432 with 3 Axes>"
      ]
     },
     "metadata": {
      "needs_background": "light"
     },
     "output_type": "display_data"
    }
   ],
   "source": [
    "def ode(vec, L):\n",
    "    \n",
    "    T = vec[0]\n",
    "    x = vec[1]\n",
    "    P = vec[2]\n",
    "    \n",
    "    Klinha = (5.74e13 * Eb / roB) * np.exp(-38000 / (1.987 * T))\n",
    "    rA = - Klinha * CA0 * (1-x) * (P0 / T0) * (P/T)\n",
    "    \n",
    "    \n",
    "    dxdL = 2.7e-3 * rA\n",
    "    dTdL = - 1.53e8 * rA\n",
    "    dPdL = - 3.08e-4 * T / P\n",
    "    \n",
    "    return [dTdL, dxdL, dPdL]\n",
    "\n",
    "L = np.linspace(0., 5., 1000)\n",
    "vec_ode = odeint(ode, [630., 0., 1.7], L)\n",
    "\n",
    "T_ode = vec_ode[:, 0]\n",
    "x_ode = vec_ode[:, 1]\n",
    "P_ode = vec_ode[:, 2]\n",
    "\n",
    "\n",
    "# plot the results\n",
    "fig, ax = plt.subplots(nrows=1, ncols=3, figsize=(18,6))    # creating subplot\n",
    "\n",
    "ax[0].plot(L, T_ode)    # plotting T over L\n",
    "ax[0].set_xlabel(\"L (m)\", fontsize=12)\n",
    "ax[0].set_ylabel(\"Temperature (K)\", fontsize=12)\n",
    "\n",
    "ax[1].plot(L, x_ode)    # plotting x over L\n",
    "ax[1].set_xlabel(\"L (m)\", fontsize=12)\n",
    "ax[1].set_ylabel(\"Conversion (%)\", fontsize=12)\n",
    "\n",
    "ax[2].plot(L, P_ode)    # plotting P over L\n",
    "ax[2].set_xlabel(\"L (m)\", fontsize=12)\n",
    "ax[2].set_ylabel(\"Pressure (atm)\", fontsize=12)\n",
    "\n",
    "plt.suptitle('First Reactor', fontsize=20)"
   ]
  },
  {
   "cell_type": "code",
   "execution_count": null,
   "id": "39b9e461",
   "metadata": {},
   "outputs": [],
   "source": []
  }
 ],
 "metadata": {
  "kernelspec": {
   "display_name": "Python 3 (ipykernel)",
   "language": "python",
   "name": "python3"
  },
  "language_info": {
   "codemirror_mode": {
    "name": "ipython",
    "version": 3
   },
   "file_extension": ".py",
   "mimetype": "text/x-python",
   "name": "python",
   "nbconvert_exporter": "python",
   "pygments_lexer": "ipython3",
   "version": "3.9.7"
  }
 },
 "nbformat": 4,
 "nbformat_minor": 5
}
